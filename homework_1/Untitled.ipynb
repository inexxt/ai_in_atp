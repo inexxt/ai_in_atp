{
 "cells": [
  {
   "cell_type": "code",
   "execution_count": 2,
   "metadata": {},
   "outputs": [],
   "source": [
    "from typing import Set\n",
    "\n",
    "\n",
    "CNF = Set[Set[int]]\n",
    "LIT = Set[int]"
   ]
  },
  {
   "cell_type": "code",
   "execution_count": 25,
   "metadata": {},
   "outputs": [],
   "source": [
    "def sgn(x):\n",
    "    return 1 if x >= 0 else 0\n",
    "\n",
    "\n",
    "def remove_lits(S: CNF, lits: Set[int]):\n",
    "    for C in S:\n",
    "        if C & lits:\n",
    "            S.remove(C)\n",
    "            S.add(C - lits)\n",
    "\n",
    "def get_single(C: Set[int]):\n",
    "    return next(iter(C))\n",
    "\n",
    "def unit_clause(S: CNF, num_lit: int):\n",
    "    #   if there is some clause consisting of a single literal l (a\n",
    "    #  unit clause), remove instances of −l from other clauses and then remove any\n",
    "    #  clauses containing l (including the unit clause itself);\n",
    "    singles = {get_single(C) for C in S if len(C) == 1}\n",
    "    remove_lits(S, {-l for l in singles})\n",
    "    return {C for C in S if not (C - singles)}\n",
    "\n",
    "\n",
    "def pure_literal(S: CNF, num_lit: int):\n",
    "    #  if there is a literal appearing in the formula only positively\n",
    "    #  or only negatively, remove all clauses containing it\n",
    "    counts = [[0, 0] for _ in range(num_lit)]\n",
    "    for C in S:\n",
    "        for l in C:\n",
    "            counts[sign(l)] += 1\n",
    "\n",
    "    lits_to_remove = {e for e, c in enumerate(counts) if c[0] == 0 or c[1] == 0}\n",
    "\n",
    "    remove_lits(S, lits_to_remove)\n",
    "    return S\n",
    "\n",
    "\n",
    "def tautology(S: CNF, num_lit: int):\n",
    "    #   if some clause contains complementary literals, l and −l,\n",
    "    #  remove this clause;\n",
    "    return {C for C in S if not (l in C and -l in C)}\n",
    "\n",
    "\n",
    "def resolution(S: CNF, num_lit: int):\n",
    "    #  choose a literal l and split the set of clauses S into a\n",
    "    #  set S1 of clauses containing l only positively, a set S2 of clauses containing l only\n",
    "    #  negatively, and the rest S3, and a new set of clauses is {c1 sum c2 \\ {l, -l} for c1, c2 in s1, s2} sum s3\n",
    "    S1 = {C for C in S if l in C and -l not in C}\n",
    "    S2 = {C for C in S if -l in C and l not in C}\n",
    "    S3 = S - S1 - S2\n",
    "\n",
    "    return {(c1 | c2) - {l, -l} for c1, c2 in zip(S1, S2)} | S3\n",
    "\n",
    "\n",
    "def check_for_empty(S: CNF):\n",
    "    return any(not C for C in S)\n",
    "\n",
    "\n",
    "def DF(S: CNF, num_lit: int):\n",
    "    rules = [unit_clause, pure_literal, tautology, resolution]\n",
    "\n",
    "    idx = 0\n",
    "    while True:\n",
    "        if not S:\n",
    "            return \"SAT\"\n",
    "\n",
    "        if check_for_empty(S):\n",
    "            return \"UNSAT\"\n",
    "\n",
    "        S = rules[idx](S, num_lit)\n",
    "        print(\"Rule \", rules[idx])\n",
    "        idx = (idx + 1) % len(rules)"
   ]
  },
  {
   "cell_type": "code",
   "execution_count": 26,
   "metadata": {},
   "outputs": [
    {
     "name": "stdout",
     "output_type": "stream",
     "text": [
      "Rule  <function unit_clause at 0x7fda60d6e598>\n"
     ]
    },
    {
     "data": {
      "text/plain": [
       "'SAT'"
      ]
     },
     "execution_count": 26,
     "metadata": {},
     "output_type": "execute_result"
    }
   ],
   "source": [
    "fname = \"./ex.cnf\"\n",
    "num_lit, _, data = input_data(fname)\n",
    "\n",
    "DF(data, num_lit)"
   ]
  },
  {
   "cell_type": "code",
   "execution_count": 27,
   "metadata": {},
   "outputs": [
    {
     "data": {
      "text/plain": [
       "{frozenset({-1, 2, 3}), frozenset({-3, 1})}"
      ]
     },
     "execution_count": 27,
     "metadata": {},
     "output_type": "execute_result"
    }
   ],
   "source": [
    "data"
   ]
  },
  {
   "cell_type": "code",
   "execution_count": null,
   "metadata": {},
   "outputs": [],
   "source": []
  }
 ],
 "metadata": {
  "kernelspec": {
   "display_name": "Python 3",
   "language": "python",
   "name": "python3"
  },
  "language_info": {
   "codemirror_mode": {
    "name": "ipython",
    "version": 3
   },
   "file_extension": ".py",
   "mimetype": "text/x-python",
   "name": "python",
   "nbconvert_exporter": "python",
   "pygments_lexer": "ipython3",
   "version": "3.7.2"
  }
 },
 "nbformat": 4,
 "nbformat_minor": 2
}
