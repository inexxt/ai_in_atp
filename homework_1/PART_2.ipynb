{
 "cells": [
  {
   "cell_type": "markdown",
   "metadata": {},
   "source": [
    "# Exercise 2"
   ]
  },
  {
   "cell_type": "markdown",
   "metadata": {},
   "source": [
    "## Part 1"
   ]
  },
  {
   "cell_type": "markdown",
   "metadata": {},
   "source": [
    "First, we use sympy to generate a formula for $\\phi_{s,t,n}$ which is supposed to be a tautology iff Ramsey number $R(s, t) < n$.\n",
    "\n",
    "In mathematical notation, the formula is given by\n",
    "$\\phi_{s, t, n} = (\\bigwedge_{P \\in N_s} \\bigvee_{p \\in P} p) \\wedge (\\bigwedge_{P \\in N_t} \\bigvee_{p \\in P} p) $\n",
    "where  \n",
    " - $ N_r $ is a set of all $r$-element combinations of a set of variables $\\{p_{ij}\\}_{i,j \\in \\{1..n\\}}$\n",
    " - a variable $p_{ij}$ has indicates whether there is an edge from node $i$ to node $j$ in a graph."
   ]
  },
  {
   "cell_type": "code",
   "execution_count": 1,
   "metadata": {},
   "outputs": [],
   "source": [
    "# define n, s and t\n",
    "n = 4\n",
    "s = 3\n",
    "t = 3"
   ]
  },
  {
   "cell_type": "code",
   "execution_count": 2,
   "metadata": {},
   "outputs": [],
   "source": [
    "from sympy import *\n",
    "from itertools import combinations, combinations_with_replacement"
   ]
  },
  {
   "cell_type": "code",
   "execution_count": 3,
   "metadata": {},
   "outputs": [],
   "source": [
    "\n",
    "p = [[None for _ in range(n)] for _ in range(n)]\n",
    "for i in range(n):\n",
    "    for j in range(n):\n",
    "        p[i][j] = Symbol(f\"p{i}{j}\")"
   ]
  },
  {
   "cell_type": "code",
   "execution_count": 4,
   "metadata": {},
   "outputs": [],
   "source": [
    "formula = And(False)\n",
    "\n",
    "def comp_conn(s):\n",
    "    formula = And(True)\n",
    "    for i in s:\n",
    "        for j in s:\n",
    "            formula = And(formula, p[i][j])\n",
    "#     print(formula)\n",
    "    return formula\n",
    "\n",
    "def comp_disc(s):\n",
    "    formula = And(True)\n",
    "    for i in s:\n",
    "        for j in s:\n",
    "            formula = And(formula, Not(p[i][j]))\n",
    "#     print(formula)\n",
    "    return formula\n",
    "\n",
    "for c in combinations(list(range(n)), s):\n",
    "    formula = Or(formula, comp_conn(c))\n",
    "    \n",
    "for c in combinations(list(range(n)), t):\n",
    "    formula = Or(formula, comp_disc(c))"
   ]
  },
  {
   "cell_type": "code",
   "execution_count": 5,
   "metadata": {},
   "outputs": [
    {
     "name": "stdout",
     "output_type": "stream",
     "text": [
      "(p00 | p01 | p02 | p10 | p11 | p12 | p20 | p21 | p22) & (p00 | p01 | p03 | p10 | p11 | p13 | p30 | p31 | p33) & (p00 | p02 | p03 | p20 | p22 | p23 | p30 | p32 | p33) & (p11 | p12 | p13 | p21 | p22 | p23 | p31 | p32 | p33) & (~p00 | ~p01 | ~p02 | ~p10 | ~p11 | ~p12 | ~p20 | ~p21 | ~p22) & (~p00 | ~p01 | ~p03 | ~p10 | ~p11 | ~p13 | ~p30 | ~p31 | ~p33) & (~p00 | ~p02 | ~p03 | ~p20 | ~p22 | ~p23 | ~p30 | ~p32 | ~p33) & (~p11 | ~p12 | ~p13 | ~p21 | ~p22 | ~p23 | ~p31 | ~p32 | ~p33)\n"
     ]
    }
   ],
   "source": [
    "# Final formula for the given n, t, s is show below\n",
    "formula_cnf = to_cnf(Not(formula))\n",
    "print(formula_cnf)"
   ]
  },
  {
   "cell_type": "markdown",
   "metadata": {},
   "source": [
    "## Part 2"
   ]
  },
  {
   "cell_type": "markdown",
   "metadata": {},
   "source": [
    "And now, using off-the-shelf `Glucose4` SAT solver we try to find Ramsey numbers for $s, t < 7$\n",
    "Timeout for one step of computation is set below."
   ]
  },
  {
   "cell_type": "code",
   "execution_count": 35,
   "metadata": {},
   "outputs": [],
   "source": [
    "timeout = 2 # seconds"
   ]
  },
  {
   "cell_type": "code",
   "execution_count": 7,
   "metadata": {},
   "outputs": [],
   "source": [
    "from pysat.solvers import Glucose4\n",
    "import time\n",
    "\n",
    "def check_n(n, s, t, queue):\n",
    "    def combs(k, ss=list(range(1, n+1))):\n",
    "        return combinations(ss, k)\n",
    "\n",
    "    NUMS = {tuple(p): e + 1 for e, p in enumerate(combs(2))}\n",
    "    def get_number(c):\n",
    "        return NUMS[tuple(c)]\n",
    "\n",
    "    time.sleep(1)\n",
    "    g = Glucose4()\n",
    "\n",
    "    for c in combs(s):\n",
    "        clause = [get_number(t) for t in combs(2, c)]\n",
    "        g.add_clause(clause)\n",
    "\n",
    "    for c in combs(t):\n",
    "        clause = [-get_number(t) for t in combs(2, c)]\n",
    "        g.add_clause(clause)\n",
    "    \n",
    "    queue.put(g.solve())\n",
    "#     return g.solve()"
   ]
  },
  {
   "cell_type": "code",
   "execution_count": 8,
   "metadata": {},
   "outputs": [],
   "source": [
    "from tqdm import tqdm\n",
    "import multiprocessing\n",
    "\n",
    "def run_until_timeout(f, args, timeout):\n",
    "    p = multiprocessing.Process(target=f, args=args)\n",
    "    \n",
    "    p.start()\n",
    "\n",
    "    p.join(timeout)\n",
    "\n",
    "    if p.is_alive():\n",
    "        p.terminate()\n",
    "        p.join()"
   ]
  },
  {
   "cell_type": "code",
   "execution_count": 40,
   "metadata": {},
   "outputs": [],
   "source": [
    "def run(f, s, t):\n",
    "#     print(s, t)\n",
    "    n = 0\n",
    "    q = multiprocessing.Queue()\n",
    "    res = True\n",
    "    while res:\n",
    "        n += 1\n",
    "        run_until_timeout(f, (n, s, t, q), timeout)\n",
    "#         print(f\"Value for s={s}, t={t} is >={n}\")\n",
    "        try:\n",
    "            res = q.get(True, timeout)\n",
    "        except:\n",
    "            # queue was empty\n",
    "            print(f\"Timeout: highest value for s={s}, t={t} is n={n}\")\n",
    "            return\n",
    "        \n",
    "    print(f\"OK: value for s={s}, t={t} is n={n}\")\n",
    "    return"
   ]
  },
  {
   "cell_type": "markdown",
   "metadata": {},
   "source": [
    "And here we get values (or values-at-timeouts) for various pairs $(s, t)$ such that $s \\leq t \\leq 7$ (by symmetry, $R(s, t) = R(t, s)$)."
   ]
  },
  {
   "cell_type": "code",
   "execution_count": 17,
   "metadata": {},
   "outputs": [
    {
     "name": "stdout",
     "output_type": "stream",
     "text": [
      "OK: value for s=1, t=1 is n=1\n",
      "OK: value for s=1, t=2 is n=1\n",
      "OK: value for s=1, t=3 is n=1\n",
      "OK: value for s=1, t=4 is n=1\n",
      "OK: value for s=1, t=5 is n=1\n",
      "OK: value for s=1, t=6 is n=1\n",
      "OK: value for s=1, t=7 is n=1\n",
      "OK: value for s=2, t=2 is n=2\n",
      "OK: value for s=2, t=3 is n=3\n",
      "OK: value for s=2, t=4 is n=4\n",
      "OK: value for s=2, t=5 is n=5\n",
      "OK: value for s=2, t=6 is n=6\n",
      "OK: value for s=2, t=7 is n=7\n",
      "OK: value for s=3, t=3 is n=6\n",
      "OK: value for s=3, t=4 is n=9\n",
      "Timeout: highest value for s=3, t=5 is n=14\n",
      "Timeout: highest value for s=3, t=6 is n=18\n",
      "Timeout: highest value for s=3, t=7 is n=21\n",
      "Timeout: highest value for s=4, t=4 is n=18\n",
      "Timeout: highest value for s=4, t=5 is n=24\n",
      "Timeout: highest value for s=4, t=6 is n=25\n",
      "Timeout: highest value for s=4, t=7 is n=21\n",
      "Timeout: highest value for s=5, t=5 is n=29\n",
      "Timeout: highest value for s=5, t=6 is n=24\n",
      "Timeout: highest value for s=5, t=7 is n=21\n",
      "Timeout: highest value for s=6, t=6 is n=23\n",
      "Timeout: highest value for s=6, t=7 is n=21\n",
      "Timeout: highest value for s=7, t=7 is n=20\n"
     ]
    }
   ],
   "source": [
    "for s, t in list(combinations_with_replacement(range(1, 8), 2)):\n",
    "    if s <= t:\n",
    "        run(check_n, s, t)"
   ]
  },
  {
   "cell_type": "markdown",
   "metadata": {},
   "source": [
    "## Part 3"
   ]
  },
  {
   "cell_type": "markdown",
   "metadata": {},
   "source": [
    "The same thing as before, but this time using DP and DPLL algorithms implemented in exercise 1."
   ]
  },
  {
   "cell_type": "code",
   "execution_count": 47,
   "metadata": {},
   "outputs": [],
   "source": [
    "from code_python import DP\n",
    "\n",
    "def check_n_dp(n, s, t, queue):\n",
    "    def combs(k, ss=list(range(1, n+1))):\n",
    "        return combinations(ss, k)\n",
    "\n",
    "    NUMS = {tuple(p): e + 1 for e, p in enumerate(combs(2))}\n",
    "    def get_number(c):\n",
    "        return NUMS[tuple(c)]\n",
    "\n",
    "    time.sleep(1)\n",
    "    g = set()\n",
    "\n",
    "    for c in combs(s):\n",
    "        clause = frozenset([get_number(t) for t in combs(2, c)])\n",
    "        g.add(clause)\n",
    "\n",
    "    for c in combs(t):\n",
    "        clause = frozenset([-get_number(t) for t in combs(2, c)])\n",
    "        g.add(clause)\n",
    "    \n",
    "    res = DP.DP(g, set(NUMS.values()))\n",
    "    queue.put(res == \"SAT\")"
   ]
  },
  {
   "cell_type": "code",
   "execution_count": 52,
   "metadata": {},
   "outputs": [
    {
     "name": "stdout",
     "output_type": "stream",
     "text": [
      "OK: value for s=1, t=1 is n=1\n",
      "OK: value for s=1, t=2 is n=1\n",
      "OK: value for s=1, t=3 is n=1\n",
      "OK: value for s=1, t=4 is n=1\n",
      "OK: value for s=1, t=5 is n=1\n",
      "OK: value for s=2, t=2 is n=2\n",
      "OK: value for s=2, t=3 is n=3\n",
      "OK: value for s=2, t=4 is n=4\n",
      "OK: value for s=2, t=5 is n=5\n",
      "OK: value for s=3, t=3 is n=6\n",
      "Timeout: highest value for s=3, t=4 is n=7\n",
      "Timeout: highest value for s=3, t=5 is n=8\n",
      "Timeout: highest value for s=4, t=4 is n=8\n",
      "Timeout: highest value for s=4, t=5 is n=9\n",
      "Timeout: highest value for s=5, t=5 is n=9\n"
     ]
    }
   ],
   "source": [
    "# this time, only to s, t <= 5, the rest is all timeouts\n",
    "for s, t in list(combinations_with_replacement(range(1, 6), 2)):\n",
    "    if s <= t:\n",
    "        run(check_n_dp, s, t)"
   ]
  },
  {
   "cell_type": "code",
   "execution_count": 53,
   "metadata": {},
   "outputs": [],
   "source": [
    "from code_python import DPLL\n",
    "\n",
    "def check_n_dpll(n, s, t, queue):\n",
    "    def combs(k, ss=list(range(1, n+1))):\n",
    "        return combinations(ss, k)\n",
    "\n",
    "    NUMS = {tuple(p): e + 1 for e, p in enumerate(combs(2))}\n",
    "    def get_number(c):\n",
    "        return NUMS[tuple(c)]\n",
    "\n",
    "    time.sleep(1)\n",
    "    g = set()\n",
    "\n",
    "    for c in combs(s):\n",
    "        clause = frozenset([get_number(t) for t in combs(2, c)])\n",
    "        g.add(clause)\n",
    "\n",
    "    for c in combs(t):\n",
    "        clause = frozenset([-get_number(t) for t in combs(2, c)])\n",
    "        g.add(clause)\n",
    "    \n",
    "    res = DPLL.DPLL(g, set(NUMS.values()))\n",
    "    queue.put(res == \"SAT\")"
   ]
  },
  {
   "cell_type": "code",
   "execution_count": 55,
   "metadata": {},
   "outputs": [
    {
     "name": "stdout",
     "output_type": "stream",
     "text": [
      "OK: value for s=1, t=1 is n=1\n",
      "OK: value for s=1, t=2 is n=1\n",
      "OK: value for s=1, t=3 is n=1\n",
      "OK: value for s=1, t=4 is n=1\n",
      "OK: value for s=1, t=5 is n=1\n",
      "OK: value for s=2, t=2 is n=2\n",
      "OK: value for s=2, t=3 is n=3\n",
      "OK: value for s=2, t=4 is n=4\n",
      "OK: value for s=2, t=5 is n=5\n",
      "Timeout: highest value for s=3, t=3 is n=6\n",
      "Timeout: highest value for s=3, t=4 is n=8\n",
      "Timeout: highest value for s=3, t=5 is n=9\n",
      "Timeout: highest value for s=4, t=4 is n=11\n",
      "Timeout: highest value for s=4, t=5 is n=12\n",
      "Timeout: highest value for s=5, t=5 is n=13\n"
     ]
    }
   ],
   "source": [
    "# here also just for s, t <= 5\n",
    "for s, t in list(combinations_with_replacement(range(1, 6), 2)):\n",
    "    if s <= t:\n",
    "        run(check_n_dpll, s, t)"
   ]
  }
 ],
 "metadata": {
  "kernelspec": {
   "display_name": "Python 3",
   "language": "python",
   "name": "python3"
  },
  "language_info": {
   "codemirror_mode": {
    "name": "ipython",
    "version": 3
   },
   "file_extension": ".py",
   "mimetype": "text/x-python",
   "name": "python",
   "nbconvert_exporter": "python",
   "pygments_lexer": "ipython3",
   "version": "3.7.2"
  }
 },
 "nbformat": 4,
 "nbformat_minor": 2
}
