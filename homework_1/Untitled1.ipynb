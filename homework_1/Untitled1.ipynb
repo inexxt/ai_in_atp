{
 "cells": [
  {
   "cell_type": "code",
   "execution_count": 2,
   "metadata": {},
   "outputs": [],
   "source": [
    "from sympy import *\n",
    "from itertools import combinations"
   ]
  },
  {
   "cell_type": "code",
   "execution_count": 3,
   "metadata": {},
   "outputs": [],
   "source": [
    "n = 4\n",
    "s = 3\n",
    "t = 3\n",
    "\n",
    "p = [[None for _ in range(n)] for _ in range(n)]\n",
    "for i in range(n):\n",
    "    for j in range(n):\n",
    "        p[i][j] = Symbol(f\"p{i}{j}\")"
   ]
  },
  {
   "cell_type": "code",
   "execution_count": 4,
   "metadata": {},
   "outputs": [
    {
     "name": "stdout",
     "output_type": "stream",
     "text": [
      "p00 & p01 & p02 & p10 & p11 & p12 & p20 & p21 & p22\n",
      "p00 & p01 & p03 & p10 & p11 & p13 & p30 & p31 & p33\n",
      "p00 & p02 & p03 & p20 & p22 & p23 & p30 & p32 & p33\n",
      "p11 & p12 & p13 & p21 & p22 & p23 & p31 & p32 & p33\n",
      "~p00 & ~p01 & ~p02 & ~p10 & ~p11 & ~p12 & ~p20 & ~p21 & ~p22\n",
      "~p00 & ~p01 & ~p03 & ~p10 & ~p11 & ~p13 & ~p30 & ~p31 & ~p33\n",
      "~p00 & ~p02 & ~p03 & ~p20 & ~p22 & ~p23 & ~p30 & ~p32 & ~p33\n",
      "~p11 & ~p12 & ~p13 & ~p21 & ~p22 & ~p23 & ~p31 & ~p32 & ~p33\n"
     ]
    }
   ],
   "source": [
    "formula = And(False)\n",
    "\n",
    "def comp_conn(s):\n",
    "    formula = And(True)\n",
    "    for i in s:\n",
    "        for j in s:\n",
    "            formula = And(formula, p[i][j])\n",
    "    print(formula)\n",
    "    return formula\n",
    "\n",
    "def comp_disc(s):\n",
    "    formula = And(True)\n",
    "    for i in s:\n",
    "        for j in s:\n",
    "            formula = And(formula, Not(p[i][j]))\n",
    "    print(formula)\n",
    "    return formula\n",
    "\n",
    "for c in combinations(list(range(n)), s):\n",
    "    formula = Or(formula, comp_conn(c))\n",
    "    \n",
    "for c in combinations(list(range(n)), t):\n",
    "    formula = Or(formula, comp_disc(c))"
   ]
  },
  {
   "cell_type": "code",
   "execution_count": 5,
   "metadata": {},
   "outputs": [
    {
     "name": "stdout",
     "output_type": "stream",
     "text": [
      "(p00 | p01 | p02 | p10 | p11 | p12 | p20 | p21 | p22) & (p00 | p01 | p03 | p10 | p11 | p13 | p30 | p31 | p33) & (p00 | p02 | p03 | p20 | p22 | p23 | p30 | p32 | p33) & (p11 | p12 | p13 | p21 | p22 | p23 | p31 | p32 | p33) & (~p00 | ~p01 | ~p02 | ~p10 | ~p11 | ~p12 | ~p20 | ~p21 | ~p22) & (~p00 | ~p01 | ~p03 | ~p10 | ~p11 | ~p13 | ~p30 | ~p31 | ~p33) & (~p00 | ~p02 | ~p03 | ~p20 | ~p22 | ~p23 | ~p30 | ~p32 | ~p33) & (~p11 | ~p12 | ~p13 | ~p21 | ~p22 | ~p23 | ~p31 | ~p32 | ~p33)\n"
     ]
    }
   ],
   "source": [
    "formula_cnf = to_cnf(Not(formula))\n",
    "print(formula_cnf)"
   ]
  },
  {
   "cell_type": "code",
   "execution_count": 6,
   "metadata": {},
   "outputs": [],
   "source": [
    "from pysat.solvers import Glucose4\n",
    "\n",
    "def check_n(n, s, t):\n",
    "    def combs(k, ss=list(range(1, n+1))):\n",
    "        return combinations(ss, k)\n",
    "\n",
    "    NUMS = {tuple(p): e + 1 for e, p in enumerate(combs(2))}\n",
    "    def get_number(c):\n",
    "        return NUMS[tuple(c)]\n",
    "\n",
    "\n",
    "    g = Glucose4()\n",
    "\n",
    "    for c in combs(s):\n",
    "        clause = [get_number(t) for t in combs(2, c)]\n",
    "        g.add_clause(clause)\n",
    "\n",
    "    for c in combs(t):\n",
    "        clause = [-get_number(t) for t in combs(2, c)]\n",
    "        g.add_clause(clause)\n",
    "    \n",
    "    return g.solve()"
   ]
  },
  {
   "cell_type": "code",
   "execution_count": 7,
   "metadata": {},
   "outputs": [
    {
     "name": "stderr",
     "output_type": "stream",
     "text": [
      "  0%|          | 0/7 [00:00<?, ?it/s]\n",
      "  0%|          | 0/7 [00:00<?, ?it/s]\u001b[A\n",
      "100%|██████████| 7/7 [00:00<00:00, 647.44it/s]\u001b[A\n",
      "  0%|          | 0/7 [00:00<?, ?it/s]\u001b[A\n",
      "100%|██████████| 7/7 [00:00<00:00, 518.40it/s]\u001b[A\n",
      "  0%|          | 0/7 [00:00<?, ?it/s]\u001b[A\n",
      " 57%|█████▋    | 4/7 [00:00<00:00, 36.50it/s]\u001b[A\n"
     ]
    },
    {
     "name": "stdout",
     "output_type": "stream",
     "text": [
      "1 1\n",
      "1 1 1\n",
      "1 2\n",
      "1 2 1\n",
      "1 3\n",
      "1 3 1\n",
      "1 4\n",
      "1 4 1\n",
      "1 5\n",
      "1 5 1\n",
      "1 6\n",
      "1 6 1\n",
      "1 7\n",
      "1 7 1\n",
      "2 1\n",
      "2 1 1\n",
      "2 2\n",
      "2 2 2\n",
      "2 3\n",
      "2 3 3\n",
      "2 4\n",
      "2 4 4\n",
      "2 5\n",
      "2 5 5\n",
      "2 6\n",
      "2 6 6\n",
      "2 7\n",
      "2 7 7\n",
      "3 1\n",
      "3 1 1\n",
      "3 2\n",
      "3 2 3\n",
      "3 3\n",
      "3 3 6\n",
      "3 4\n",
      "3 4 9\n",
      "3 5\n"
     ]
    },
    {
     "name": "stderr",
     "output_type": "stream",
     "text": [
      " 57%|█████▋    | 4/7 [49:56<00:00, 36.50it/s]\u001b[A\n",
      "\u001b[A"
     ]
    },
    {
     "ename": "error",
     "evalue": "Caught keyboard interrupt",
     "output_type": "error",
     "traceback": [
      "\u001b[0;31m---------------------------------------------------------------------------\u001b[0m",
      "\u001b[0;31merror\u001b[0m                                     Traceback (most recent call last)",
      "\u001b[0;32m<ipython-input-7-f493c735d63b>\u001b[0m in \u001b[0;36m<module>\u001b[0;34m()\u001b[0m\n\u001b[1;32m      6\u001b[0m \u001b[0;34m\u001b[0m\u001b[0m\n\u001b[1;32m      7\u001b[0m         \u001b[0mn\u001b[0m \u001b[0;34m=\u001b[0m \u001b[0;36m1\u001b[0m\u001b[0;34m\u001b[0m\u001b[0;34m\u001b[0m\u001b[0m\n\u001b[0;32m----> 8\u001b[0;31m         \u001b[0;32mwhile\u001b[0m \u001b[0mcheck_n\u001b[0m\u001b[0;34m(\u001b[0m\u001b[0mn\u001b[0m\u001b[0;34m,\u001b[0m \u001b[0ms\u001b[0m\u001b[0;34m,\u001b[0m \u001b[0mt\u001b[0m\u001b[0;34m)\u001b[0m\u001b[0;34m:\u001b[0m\u001b[0;34m\u001b[0m\u001b[0;34m\u001b[0m\u001b[0m\n\u001b[0m\u001b[1;32m      9\u001b[0m             \u001b[0mn\u001b[0m \u001b[0;34m+=\u001b[0m \u001b[0;36m1\u001b[0m\u001b[0;34m\u001b[0m\u001b[0;34m\u001b[0m\u001b[0m\n\u001b[1;32m     10\u001b[0m         \u001b[0mprint\u001b[0m\u001b[0;34m(\u001b[0m\u001b[0ms\u001b[0m\u001b[0;34m,\u001b[0m \u001b[0mt\u001b[0m\u001b[0;34m,\u001b[0m \u001b[0mn\u001b[0m\u001b[0;34m)\u001b[0m\u001b[0;34m\u001b[0m\u001b[0;34m\u001b[0m\u001b[0m\n",
      "\u001b[0;32m<ipython-input-6-527e79b0ae41>\u001b[0m in \u001b[0;36mcheck_n\u001b[0;34m(n, s, t)\u001b[0m\n\u001b[1;32m     20\u001b[0m         \u001b[0mg\u001b[0m\u001b[0;34m.\u001b[0m\u001b[0madd_clause\u001b[0m\u001b[0;34m(\u001b[0m\u001b[0mclause\u001b[0m\u001b[0;34m)\u001b[0m\u001b[0;34m\u001b[0m\u001b[0;34m\u001b[0m\u001b[0m\n\u001b[1;32m     21\u001b[0m \u001b[0;34m\u001b[0m\u001b[0m\n\u001b[0;32m---> 22\u001b[0;31m     \u001b[0;32mreturn\u001b[0m \u001b[0mg\u001b[0m\u001b[0;34m.\u001b[0m\u001b[0msolve\u001b[0m\u001b[0;34m(\u001b[0m\u001b[0;34m)\u001b[0m\u001b[0;34m\u001b[0m\u001b[0;34m\u001b[0m\u001b[0m\n\u001b[0m",
      "\u001b[0;32m~/anaconda3/lib/python3.7/site-packages/pysat/solvers.py\u001b[0m in \u001b[0;36msolve\u001b[0;34m(self, assumptions)\u001b[0m\n\u001b[1;32m   1302\u001b[0m             \u001b[0mdef_sigint_handler\u001b[0m \u001b[0;34m=\u001b[0m \u001b[0msignal\u001b[0m\u001b[0;34m.\u001b[0m\u001b[0msignal\u001b[0m\u001b[0;34m(\u001b[0m\u001b[0msignal\u001b[0m\u001b[0;34m.\u001b[0m\u001b[0mSIGINT\u001b[0m\u001b[0;34m,\u001b[0m \u001b[0msignal\u001b[0m\u001b[0;34m.\u001b[0m\u001b[0mSIG_DFL\u001b[0m\u001b[0;34m)\u001b[0m\u001b[0;34m\u001b[0m\u001b[0;34m\u001b[0m\u001b[0m\n\u001b[1;32m   1303\u001b[0m \u001b[0;34m\u001b[0m\u001b[0m\n\u001b[0;32m-> 1304\u001b[0;31m             \u001b[0mself\u001b[0m\u001b[0;34m.\u001b[0m\u001b[0mstatus\u001b[0m \u001b[0;34m=\u001b[0m \u001b[0mpysolvers\u001b[0m\u001b[0;34m.\u001b[0m\u001b[0mglucose41_solve\u001b[0m\u001b[0;34m(\u001b[0m\u001b[0mself\u001b[0m\u001b[0;34m.\u001b[0m\u001b[0mglucose\u001b[0m\u001b[0;34m,\u001b[0m \u001b[0massumptions\u001b[0m\u001b[0;34m)\u001b[0m\u001b[0;34m\u001b[0m\u001b[0;34m\u001b[0m\u001b[0m\n\u001b[0m\u001b[1;32m   1305\u001b[0m \u001b[0;34m\u001b[0m\u001b[0m\n\u001b[1;32m   1306\u001b[0m             \u001b[0;31m# recovering default SIGINT handler\u001b[0m\u001b[0;34m\u001b[0m\u001b[0;34m\u001b[0m\u001b[0;34m\u001b[0m\u001b[0m\n",
      "\u001b[0;31merror\u001b[0m: Caught keyboard interrupt"
     ]
    }
   ],
   "source": [
    "from tqdm import tqdm\n",
    "\n",
    "for s in tqdm(range(1, 8)):\n",
    "    for t in tqdm(range(1, 8)):\n",
    "        print(s, t)\n",
    "\n",
    "        n = 1\n",
    "        while check_n(n, s, t):\n",
    "            n += 1\n",
    "        print(s, t, n)"
   ]
  },
  {
   "cell_type": "code",
   "execution_count": null,
   "metadata": {},
   "outputs": [],
   "source": []
  }
 ],
 "metadata": {
  "kernelspec": {
   "display_name": "Python 3",
   "language": "python",
   "name": "python3"
  },
  "language_info": {
   "codemirror_mode": {
    "name": "ipython",
    "version": 3
   },
   "file_extension": ".py",
   "mimetype": "text/x-python",
   "name": "python",
   "nbconvert_exporter": "python",
   "pygments_lexer": "ipython3",
   "version": "3.7.2"
  }
 },
 "nbformat": 4,
 "nbformat_minor": 2
}
